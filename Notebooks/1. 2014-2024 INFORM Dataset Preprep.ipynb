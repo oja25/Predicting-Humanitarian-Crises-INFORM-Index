{
 "cells": [
  {
   "cell_type": "markdown",
   "id": "b3cd4d9e",
   "metadata": {},
   "source": [
    "# Import 2014-2024 Dataset into Python"
   ]
  },
  {
   "cell_type": "code",
   "execution_count": 1,
   "id": "0f96ddff",
   "metadata": {},
   "outputs": [],
   "source": [
    "import pandas as pd"
   ]
  },
  {
   "cell_type": "code",
   "execution_count": 2,
   "id": "3be365c6",
   "metadata": {},
   "outputs": [],
   "source": [
    "df = pd.read_excel(\"INFORM2024_TREND_2014_2023_v67_ALL.xlsx\")"
   ]
  },
  {
   "cell_type": "code",
   "execution_count": 3,
   "id": "0e8f58c6",
   "metadata": {},
   "outputs": [
    {
     "data": {
      "text/html": [
       "<div>\n",
       "<style scoped>\n",
       "    .dataframe tbody tr th:only-of-type {\n",
       "        vertical-align: middle;\n",
       "    }\n",
       "\n",
       "    .dataframe tbody tr th {\n",
       "        vertical-align: top;\n",
       "    }\n",
       "\n",
       "    .dataframe thead th {\n",
       "        text-align: right;\n",
       "    }\n",
       "</style>\n",
       "<table border=\"1\" class=\"dataframe\">\n",
       "  <thead>\n",
       "    <tr style=\"text-align: right;\">\n",
       "      <th></th>\n",
       "      <th>Iso3</th>\n",
       "      <th>IndicatorId</th>\n",
       "      <th>IndicatorName</th>\n",
       "      <th>IndicatorScore</th>\n",
       "      <th>SurveyYear</th>\n",
       "      <th>Indicator Type</th>\n",
       "      <th>INFORMYear</th>\n",
       "    </tr>\n",
       "  </thead>\n",
       "  <tbody>\n",
       "    <tr>\n",
       "      <th>0</th>\n",
       "      <td>AFG</td>\n",
       "      <td>AFF_DR</td>\n",
       "      <td>People affected by drought (absolute) - raw</td>\n",
       "      <td>886000.000000</td>\n",
       "      <td>2022</td>\n",
       "      <td>Core Indicators</td>\n",
       "      <td>2024</td>\n",
       "    </tr>\n",
       "    <tr>\n",
       "      <th>1</th>\n",
       "      <td>AGO</td>\n",
       "      <td>AFF_DR</td>\n",
       "      <td>People affected by drought (absolute) - raw</td>\n",
       "      <td>197920.457143</td>\n",
       "      <td>2022</td>\n",
       "      <td>Core Indicators</td>\n",
       "      <td>2024</td>\n",
       "    </tr>\n",
       "    <tr>\n",
       "      <th>2</th>\n",
       "      <td>ALB</td>\n",
       "      <td>AFF_DR</td>\n",
       "      <td>People affected by drought (absolute) - raw</td>\n",
       "      <td>91428.571429</td>\n",
       "      <td>2022</td>\n",
       "      <td>Core Indicators</td>\n",
       "      <td>2024</td>\n",
       "    </tr>\n",
       "    <tr>\n",
       "      <th>3</th>\n",
       "      <td>ARE</td>\n",
       "      <td>AFF_DR</td>\n",
       "      <td>People affected by drought (absolute) - raw</td>\n",
       "      <td>0.000000</td>\n",
       "      <td>2022</td>\n",
       "      <td>Core Indicators</td>\n",
       "      <td>2024</td>\n",
       "    </tr>\n",
       "    <tr>\n",
       "      <th>4</th>\n",
       "      <td>ARG</td>\n",
       "      <td>AFF_DR</td>\n",
       "      <td>People affected by drought (absolute) - raw</td>\n",
       "      <td>1000.914286</td>\n",
       "      <td>2022</td>\n",
       "      <td>Core Indicators</td>\n",
       "      <td>2024</td>\n",
       "    </tr>\n",
       "  </tbody>\n",
       "</table>\n",
       "</div>"
      ],
      "text/plain": [
       "  Iso3 IndicatorId                                IndicatorName  \\\n",
       "0  AFG      AFF_DR  People affected by drought (absolute) - raw   \n",
       "1  AGO      AFF_DR  People affected by drought (absolute) - raw   \n",
       "2  ALB      AFF_DR  People affected by drought (absolute) - raw   \n",
       "3  ARE      AFF_DR  People affected by drought (absolute) - raw   \n",
       "4  ARG      AFF_DR  People affected by drought (absolute) - raw   \n",
       "\n",
       "   IndicatorScore  SurveyYear   Indicator Type  INFORMYear  \n",
       "0   886000.000000        2022  Core Indicators        2024  \n",
       "1   197920.457143        2022  Core Indicators        2024  \n",
       "2    91428.571429        2022  Core Indicators        2024  \n",
       "3        0.000000        2022  Core Indicators        2024  \n",
       "4     1000.914286        2022  Core Indicators        2024  "
      ]
     },
     "execution_count": 3,
     "metadata": {},
     "output_type": "execute_result"
    }
   ],
   "source": [
    "df.head()"
   ]
  },
  {
   "cell_type": "code",
   "execution_count": 4,
   "id": "24e7cb83",
   "metadata": {
    "scrolled": true
   },
   "outputs": [
    {
     "name": "stdout",
     "output_type": "stream",
     "text": [
      "<class 'pandas.core.frame.DataFrame'>\n",
      "RangeIndex: 473668 entries, 0 to 473667\n",
      "Data columns (total 7 columns):\n",
      " #   Column          Non-Null Count   Dtype  \n",
      "---  ------          --------------   -----  \n",
      " 0   Iso3            473668 non-null  object \n",
      " 1   IndicatorId     473668 non-null  object \n",
      " 2   IndicatorName   472511 non-null  object \n",
      " 3   IndicatorScore  473668 non-null  float64\n",
      " 4   SurveyYear      473668 non-null  int64  \n",
      " 5   Indicator Type  473668 non-null  object \n",
      " 6   INFORMYear      473668 non-null  int64  \n",
      "dtypes: float64(1), int64(2), object(4)\n",
      "memory usage: 25.3+ MB\n"
     ]
    }
   ],
   "source": [
    "df.info()"
   ]
  },
  {
   "cell_type": "code",
   "execution_count": 5,
   "id": "8f684669",
   "metadata": {},
   "outputs": [
    {
     "data": {
      "text/plain": [
       "Iso3                 0\n",
       "IndicatorId          0\n",
       "IndicatorName     1157\n",
       "IndicatorScore       0\n",
       "SurveyYear           0\n",
       "Indicator Type       0\n",
       "INFORMYear           0\n",
       "dtype: int64"
      ]
     },
     "execution_count": 5,
     "metadata": {},
     "output_type": "execute_result"
    }
   ],
   "source": [
    "df.isna().sum()"
   ]
  },
  {
   "cell_type": "markdown",
   "id": "db53118f",
   "metadata": {},
   "source": [
    "## Checking the number of categories in respective columns"
   ]
  },
  {
   "cell_type": "code",
   "execution_count": 6,
   "id": "3235b8ae",
   "metadata": {
    "scrolled": true
   },
   "outputs": [
    {
     "name": "stdout",
     "output_type": "stream",
     "text": [
      "There are 191 countries / territories in the dataframe\n",
      "Country ISOs in the dataframe: ['AFG', 'AGO', 'ALB', 'ARE', 'ARG', 'ARM', 'ATG', 'AUS', 'AUT', 'AZE', 'BDI', 'BEL', 'BEN', 'BFA', 'BGD', 'BGR', 'BHR', 'BHS', 'BIH', 'BLR', 'BLZ', 'BOL', 'BRA', 'BRB', 'BRN', 'BTN', 'BWA', 'CAF', 'CAN', 'CHE', 'CHL', 'CHN', 'CIV', 'CMR', 'COD', 'COG', 'COL', 'COM', 'CPV', 'CRI', 'CUB', 'CYP', 'CZE', 'DEU', 'DJI', 'DMA', 'DNK', 'DOM', 'DZA', 'ECU', 'EGY', 'ERI', 'ESP', 'EST', 'ETH', 'FIN', 'FJI', 'FRA', 'FSM', 'GAB', 'GBR', 'GEO', 'GHA', 'GIN', 'GMB', 'GNB', 'GNQ', 'GRC', 'GRD', 'GTM', 'GUY', 'HND', 'HRV', 'HTI', 'HUN', 'IDN', 'IND', 'IRL', 'IRN', 'IRQ', 'ISL', 'ISR', 'ITA', 'JAM', 'JOR', 'JPN', 'KAZ', 'KEN', 'KGZ', 'KHM', 'KIR', 'KNA', 'KOR', 'KWT', 'LAO', 'LBN', 'LBR', 'LBY', 'LCA', 'LIE', 'LKA', 'LSO', 'LTU', 'LUX', 'LVA', 'MAR', 'MDA', 'MDG', 'MDV', 'MEX', 'MHL', 'MKD', 'MLI', 'MLT', 'MMR', 'MNE', 'MNG', 'MOZ', 'MRT', 'MUS', 'MWI', 'MYS', 'NAM', 'NER', 'NGA', 'NIC', 'NLD', 'NOR', 'NPL', 'NRU', 'NZL', 'OMN', 'PAK', 'PAN', 'PER', 'PHL', 'PLW', 'PNG', 'POL', 'PRK', 'PRT', 'PRY', 'PSE', 'QAT', 'ROU', 'RUS', 'RWA', 'SAU', 'SDN', 'SEN', 'SGP', 'SLB', 'SLE', 'SLV', 'SOM', 'SRB', 'SSD', 'STP', 'SUR', 'SVK', 'SVN', 'SWE', 'SWZ', 'SYC', 'SYR', 'TCD', 'TGO', 'THA', 'TJK', 'TKM', 'TLS', 'TON', 'TTO', 'TUN', 'TUR', 'TUV', 'TZA', 'UGA', 'UKR', 'URY', 'USA', 'UZB', 'VCT', 'VEN', 'VNM', 'VUT', 'WSM', 'YEM', 'ZAF', 'ZMB', 'ZWE']\n"
     ]
    }
   ],
   "source": [
    "print(\"There are \" + str(len(df['Iso3'].unique())) + \" countries / territories in the dataframe\")\n",
    "\n",
    "sortISO = sorted(df['Iso3'].unique())\n",
    "print(\"Country ISOs in the dataframe: \" + str(sortISO))"
   ]
  },
  {
   "cell_type": "code",
   "execution_count": 7,
   "id": "a7b37768",
   "metadata": {
    "scrolled": true
   },
   "outputs": [
    {
     "name": "stdout",
     "output_type": "stream",
     "text": [
      "There are 272 indicator IDs in the dataframe\n"
     ]
    }
   ],
   "source": [
    "print(\"There are \" + str(len(df['IndicatorId'].unique())) + \" indicator IDs in the dataframe\")\n",
    "\n",
    "#sortId = sorted(df['IndicatorId'].unique())\n",
    "#print(\"Indicator IDs in the dataframe: \" + str(sortId))"
   ]
  },
  {
   "cell_type": "code",
   "execution_count": 33,
   "id": "b237dff6",
   "metadata": {
    "scrolled": false
   },
   "outputs": [
    {
     "name": "stdout",
     "output_type": "stream",
     "text": [
      "There are 239 indicator names in the dataframe\n",
      "There are 2 indicator types in the dataframe\n",
      "There are 29 survey years in the dataframe\n",
      "There are 10 INFORM Index years in the dataframe\n"
     ]
    }
   ],
   "source": [
    "print(\"There are \" + str(len(df['IndicatorName'].unique())) + \" indicator names in the dataframe\")\n",
    "#there are missing values in indicator name column - better not to split on this column\n",
    "#sortName = sorted(df['IndicatorName'].unique())\n",
    "#indicator_names_str = \", \".join(sortName)\n",
    "#print(\"Indicator names in the dataframe: \" + indicator_names_str)\n",
    "\n",
    "print(\"There are \" + str(len(df['Indicator Type'].unique())) + \" indicator types in the dataframe\")\n",
    "\n",
    "print(\"There are \" + str(len(df['SurveyYear'].unique())) + \" survey years in the dataframe\")\n",
    "\n",
    "print(\"There are \" + str(len(df['INFORMYear'].unique())) + \" INFORM Index years in the dataframe\")"
   ]
  },
  {
   "cell_type": "markdown",
   "id": "04c7fdc3",
   "metadata": {},
   "source": [
    "## Splitting the dataframe into multiple dataframes based on different column categories"
   ]
  },
  {
   "cell_type": "markdown",
   "id": "79748d58",
   "metadata": {},
   "source": [
    "#### Split on Indicator Type \n",
    "- 2 categories\n",
    "- Store as 2 new dataframes\n",
    "- Keep original dataframe\n",
    "- Export new dataframes to desktop"
   ]
  },
  {
   "cell_type": "code",
   "execution_count": 9,
   "id": "d1ef824c",
   "metadata": {
    "scrolled": true
   },
   "outputs": [
    {
     "name": "stdout",
     "output_type": "stream",
     "text": [
      "DataFrame for Indicator Types Core Indicators:\n",
      "       Iso3        IndicatorId  \\\n",
      "0       AFG             AFF_DR   \n",
      "1       AGO             AFF_DR   \n",
      "2       ALB             AFF_DR   \n",
      "3       ARE             AFF_DR   \n",
      "4       ARG             AFF_DR   \n",
      "...     ...                ...   \n",
      "473663  GNB  EN.POP.SLUM.UR.ZS   \n",
      "473664  GTM  EN.POP.SLUM.UR.ZS   \n",
      "473665  GUY  EN.POP.SLUM.UR.ZS   \n",
      "473666  HTI  EN.POP.SLUM.UR.ZS   \n",
      "473667  IDN  EN.POP.SLUM.UR.ZS   \n",
      "\n",
      "                                            IndicatorName  IndicatorScore  \\\n",
      "0             People affected by drought (absolute) - raw   886000.000000   \n",
      "1             People affected by drought (absolute) - raw   197920.457143   \n",
      "2             People affected by drought (absolute) - raw    91428.571429   \n",
      "3             People affected by drought (absolute) - raw        0.000000   \n",
      "4             People affected by drought (absolute) - raw     1000.914286   \n",
      "...                                                   ...             ...   \n",
      "473663  Population living in slums (% of urban populat...       60.810370   \n",
      "473664  Population living in slums (% of urban populat...       37.600000   \n",
      "473665  Population living in slums (% of urban populat...       12.140200   \n",
      "473666  Population living in slums (% of urban populat...       48.900000   \n",
      "473667  Population living in slums (% of urban populat...       19.410830   \n",
      "\n",
      "        SurveyYear   Indicator Type  INFORMYear  \n",
      "0             2022  Core Indicators        2024  \n",
      "1             2022  Core Indicators        2024  \n",
      "2             2022  Core Indicators        2024  \n",
      "3             2022  Core Indicators        2024  \n",
      "4             2022  Core Indicators        2024  \n",
      "...            ...              ...         ...  \n",
      "473663        2020  Core Indicators        2024  \n",
      "473664        2020  Core Indicators        2024  \n",
      "473665        2020  Core Indicators        2024  \n",
      "473666        2020  Core Indicators        2024  \n",
      "473667        2020  Core Indicators        2024  \n",
      "\n",
      "[147420 rows x 7 columns]\n",
      "\n",
      "DataFrame for Indicator Types INORM Index:\n",
      "       Iso3            IndicatorId                  IndicatorName  \\\n",
      "21      EST  CC.INF.AHC.HEALTH-EXP  Health expenditure per capita   \n",
      "22      ETH  CC.INF.AHC.HEALTH-EXP  Health expenditure per capita   \n",
      "23      FIN  CC.INF.AHC.HEALTH-EXP  Health expenditure per capita   \n",
      "24      FJI  CC.INF.AHC.HEALTH-EXP  Health expenditure per capita   \n",
      "25      FRA  CC.INF.AHC.HEALTH-EXP  Health expenditure per capita   \n",
      "...     ...                    ...                            ...   \n",
      "473139  KAZ         CC.INF.AHC.IMM          Immunization coverage   \n",
      "473140  KEN         CC.INF.AHC.IMM          Immunization coverage   \n",
      "473141  KGZ         CC.INF.AHC.IMM          Immunization coverage   \n",
      "473142  KHM         CC.INF.AHC.IMM          Immunization coverage   \n",
      "473143  KIR         CC.INF.AHC.IMM          Immunization coverage   \n",
      "\n",
      "        IndicatorScore  SurveyYear Indicator Type  INFORMYear  \n",
      "21                 0.0        2021    INORM Index        2024  \n",
      "22                 9.9        2020    INORM Index        2024  \n",
      "23                 0.0        2020    INORM Index        2024  \n",
      "24                 8.7        2020    INORM Index        2024  \n",
      "25                 0.0        2020    INORM Index        2024  \n",
      "...                ...         ...            ...         ...  \n",
      "473139             0.7           0    INORM Index        2024  \n",
      "473140             3.2           0    INORM Index        2024  \n",
      "473141             1.2           0    INORM Index        2024  \n",
      "473142             2.5           0    INORM Index        2024  \n",
      "473143             2.7           0    INORM Index        2024  \n",
      "\n",
      "[326248 rows x 7 columns]\n",
      "\n"
     ]
    }
   ],
   "source": [
    "# Grouping by 'Indicator Type'\n",
    "grouped = df.groupby('Indicator Type')\n",
    "\n",
    "# Creating a dictionary to store DataFrames\n",
    "dfs = {}\n",
    "\n",
    "# Splitting and storing DataFrames based on category\n",
    "for category, group_df in grouped:\n",
    "    dfs[category] = group_df.copy()\n",
    "\n",
    "# Accessing the new DataFrames and saving them\n",
    "for category, new_df in dfs.items():\n",
    "    print(f\"DataFrame for Indicator Types {category}:\")\n",
    "    print(new_df)\n",
    "    print()  # line to space between dataframes"
   ]
  },
  {
   "cell_type": "code",
   "execution_count": 18,
   "id": "d66b2c2b",
   "metadata": {},
   "outputs": [
    {
     "name": "stdout",
     "output_type": "stream",
     "text": [
      "DataFrame for Indicator Types Core Indicators saved as ~/Desktop/CodeOp/DSF02/Group Project\\Core Indicators.csv\n",
      "DataFrame for Indicator Types INORM Index saved as ~/Desktop/CodeOp/DSF02/Group Project\\INORM Index.csv\n"
     ]
    }
   ],
   "source": [
    "import os\n",
    "\n",
    "# Grouping by 'Indicator Type'\n",
    "grouped = df.groupby('Indicator Type')\n",
    "\n",
    "# Creating a dictionary to store DataFrames\n",
    "dfs = {}\n",
    "\n",
    "# Splitting and storing DataFrames based on category\n",
    "for category, group_df in grouped:\n",
    "    dfs[category] = group_df.copy()\n",
    "\n",
    "# Define the folder path where you want to save the DataFrames\n",
    "folder_path = '~/Desktop/CodeOp/DSF02/Group Project'  # Replace this with your desired folder path\n",
    "\n",
    "# Create the folder if it doesn't exist\n",
    "os.makedirs(folder_path, exist_ok=True)\n",
    "\n",
    "# Accessing the new DataFrames and saving them\n",
    "for category, new_df in dfs.items():\n",
    "    # Construct the file path\n",
    "    file_path = os.path.join(folder_path, f\"{category}.csv\")\n",
    "\n",
    "    # Save each DataFrame as a separate CSV file in the specified folder\n",
    "    new_df.to_csv(file_path, index=False)\n",
    "    print(f\"DataFrame for Indicator Types {category} saved as {file_path}\")"
   ]
  },
  {
   "cell_type": "code",
   "execution_count": 19,
   "id": "b5624570",
   "metadata": {},
   "outputs": [
    {
     "name": "stdout",
     "output_type": "stream",
     "text": [
      "DataFrame for Indicator Types Core Indicators:\n",
      "<class 'pandas.core.frame.DataFrame'>\n",
      "Index: 147420 entries, 0 to 473667\n",
      "Data columns (total 7 columns):\n",
      " #   Column          Non-Null Count   Dtype  \n",
      "---  ------          --------------   -----  \n",
      " 0   Iso3            147420 non-null  object \n",
      " 1   IndicatorId     147420 non-null  object \n",
      " 2   IndicatorName   147420 non-null  object \n",
      " 3   IndicatorScore  147420 non-null  float64\n",
      " 4   SurveyYear      147420 non-null  int64  \n",
      " 5   Indicator Type  147420 non-null  object \n",
      " 6   INFORMYear      147420 non-null  int64  \n",
      "dtypes: float64(1), int64(2), object(4)\n",
      "memory usage: 9.0+ MB\n",
      "None\n",
      "\n",
      "DataFrame for Indicator Types INORM Index:\n",
      "<class 'pandas.core.frame.DataFrame'>\n",
      "Index: 326248 entries, 21 to 473143\n",
      "Data columns (total 7 columns):\n",
      " #   Column          Non-Null Count   Dtype  \n",
      "---  ------          --------------   -----  \n",
      " 0   Iso3            326248 non-null  object \n",
      " 1   IndicatorId     326248 non-null  object \n",
      " 2   IndicatorName   325091 non-null  object \n",
      " 3   IndicatorScore  326248 non-null  float64\n",
      " 4   SurveyYear      326248 non-null  int64  \n",
      " 5   Indicator Type  326248 non-null  object \n",
      " 6   INFORMYear      326248 non-null  int64  \n",
      "dtypes: float64(1), int64(2), object(4)\n",
      "memory usage: 19.9+ MB\n",
      "None\n",
      "\n"
     ]
    }
   ],
   "source": [
    "# Accessing the new DataFrames and printing info\n",
    "for category, new_df in dfs.items():\n",
    "    print(f\"DataFrame for Indicator Types {category}:\")\n",
    "    print(new_df.info())\n",
    "    print()"
   ]
  },
  {
   "cell_type": "code",
   "execution_count": null,
   "id": "9be6afa9",
   "metadata": {},
   "outputs": [],
   "source": [
    "#catIso = df['Iso3'].unique()\n",
    "#catName = df['IndicatorName'].unique()\n",
    "#catScore = df['IndicatorScore'].unique()\n",
    "#catYear = df['SurveyYear'].unique()\n",
    "#catType = df['Indicator Type'].unique()\n",
    "#catInformYear = df['INFORMYear'].unique()"
   ]
  }
 ],
 "metadata": {
  "kernelspec": {
   "display_name": "Python 3 (ipykernel)",
   "language": "python",
   "name": "python3"
  },
  "language_info": {
   "codemirror_mode": {
    "name": "ipython",
    "version": 3
   },
   "file_extension": ".py",
   "mimetype": "text/x-python",
   "name": "python",
   "nbconvert_exporter": "python",
   "pygments_lexer": "ipython3",
   "version": "3.11.5"
  }
 },
 "nbformat": 4,
 "nbformat_minor": 5
}
